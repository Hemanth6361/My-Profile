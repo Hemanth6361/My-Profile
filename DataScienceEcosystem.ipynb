{
  "nbformat": 4,
  "nbformat_minor": 0,
  "metadata": {
    "colab": {
      "provenance": [],
      "authorship_tag": "ABX9TyOBFeum8DC/qRh1ccJ7Gvsw",
      "include_colab_link": true
    },
    "kernelspec": {
      "name": "python3",
      "display_name": "Python 3"
    },
    "language_info": {
      "name": "python"
    }
  },
  "cells": [
    {
      "cell_type": "markdown",
      "metadata": {
        "id": "view-in-github",
        "colab_type": "text"
      },
      "source": [
        "<a href=\"https://colab.research.google.com/github/Hemanth6361/My-Profile/blob/main/DataScienceEcosystem.ipynb\" target=\"_parent\"><img src=\"https://colab.research.google.com/assets/colab-badge.svg\" alt=\"Open In Colab\"/></a>"
      ]
    },
    {
      "cell_type": "markdown",
      "source": [
        "# Data Science Tools and Ecosystem"
      ],
      "metadata": {
        "id": "yLFWy3jMC6PC"
      }
    },
    {
      "cell_type": "markdown",
      "source": [
        "In this notebook, Data Science Tools and Ecosystem are summarized."
      ],
      "metadata": {
        "id": "E_lf7aljDvyJ"
      }
    },
    {
      "cell_type": "markdown",
      "source": [
        "Some of the popular languages that Data Scientists use are:\n",
        "\n",
        "\n",
        "1.   Python\n",
        "2.   R\n",
        "3.   Java\n",
        "\n",
        "\n",
        "\n",
        "\n",
        "\n",
        "\n",
        "\n",
        "\n"
      ],
      "metadata": {
        "id": "lpdrCTxeELgO"
      }
    },
    {
      "cell_type": "markdown",
      "source": [
        "Some of the commonly used libraries used by Data Scientists include:\n",
        "\n",
        "\n",
        "1.   TensorFlow\n",
        "2.   Numpy\n",
        "3.   SciPy\n",
        "4.   Pandas\n",
        "5.   Matplotlib\n"
      ],
      "metadata": {
        "id": "bChKXws4Faws"
      }
    },
    {
      "cell_type": "markdown",
      "source": [],
      "metadata": {
        "id": "R4ebLNGSGlyY"
      }
    },
    {
      "cell_type": "markdown",
      "source": [
        "<table style=\"width:20%\">\n",
        "<tr>\n",
        "<th>Data Science Tools</th>\n",
        "</tr>\n",
        "<tr>\n",
        "<td>R-Studio</td>\n",
        "</tr>\n",
        "<tr>\n",
        "<td>Apache Spark</td>\n",
        "</tr>\n",
        "<tr>\n",
        "<td>TensorFlow</td>\n",
        "</tr>\n",
        "\n"
      ],
      "metadata": {
        "id": "Fbyu9DhDKi7u"
      }
    },
    {
      "cell_type": "markdown",
      "source": [
        "### Below are a few examples of evaluating arithmetic expressions in Python"
      ],
      "metadata": {
        "id": "HRFrUy_7MSCm"
      }
    },
    {
      "cell_type": "markdown",
      "source": [
        "\n",
        "This a simple arithmetic expression to mutiply then add integers\n"
      ],
      "metadata": {
        "id": "fBo0lJBNMsBV"
      }
    },
    {
      "cell_type": "code",
      "source": [
        "(3*4)+5"
      ],
      "metadata": {
        "colab": {
          "base_uri": "https://localhost:8080/"
        },
        "id": "g0WXoP7-E7uy",
        "outputId": "4006abf1-0b12-4eb3-c4c4-5b3f52fe21ca"
      },
      "execution_count": 1,
      "outputs": [
        {
          "output_type": "execute_result",
          "data": {
            "text/plain": [
              "17"
            ]
          },
          "metadata": {},
          "execution_count": 1
        }
      ]
    },
    {
      "cell_type": "markdown",
      "source": [
        " This will convert 200 minutes to hours by diving by 60"
      ],
      "metadata": {
        "id": "mNDEdC18NUrx"
      }
    },
    {
      "cell_type": "code",
      "source": [
        "(200*1)/60"
      ],
      "metadata": {
        "colab": {
          "base_uri": "https://localhost:8080/"
        },
        "id": "kIfUNfPbNABq",
        "outputId": "fd13825e-cb83-42cd-f698-ebd1fcf122c2"
      },
      "execution_count": 5,
      "outputs": [
        {
          "output_type": "execute_result",
          "data": {
            "text/plain": [
              "3.3333333333333335"
            ]
          },
          "metadata": {},
          "execution_count": 5
        }
      ]
    },
    {
      "cell_type": "markdown",
      "source": [
        "List popular languages for Data Science"
      ],
      "metadata": {
        "id": "L7i6M9A1OoQa"
      }
    },
    {
      "cell_type": "markdown",
      "source": [
        "**Objectives:**\n",
        "\n",
        "\n",
        "*   Python\n",
        "*   R\n",
        "\n",
        "*   SQL\n",
        "*   Java\n",
        "\n",
        "\n",
        "\n"
      ],
      "metadata": {
        "id": "1rUu7-aKOV41"
      }
    },
    {
      "cell_type": "markdown",
      "source": [
        "## Author\n",
        "\n",
        "\n",
        "---\n",
        "\n",
        "\n",
        "Hemanth RangeGowda S P"
      ],
      "metadata": {
        "id": "iXuZc0JhPSjy"
      }
    },
    {
      "cell_type": "code",
      "source": [],
      "metadata": {
        "id": "m884KPuANfn0"
      },
      "execution_count": null,
      "outputs": []
    }
  ]
}